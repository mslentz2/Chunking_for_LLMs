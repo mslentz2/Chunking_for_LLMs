{
 "cells": [
  {
   "cell_type": "code",
   "execution_count": 33,
   "metadata": {},
   "outputs": [],
   "source": [
    "from langchain_openai import AzureOpenAI\n",
    "from langchain_core.output_parsers import StrOutputParser\n",
    "from langchain_core.prompts import ChatPromptTemplate\n",
    "from langchain_core.runnables import RunnablePassthrough\n",
    "from langchain_core.output_parsers import SimpleJsonOutputParser\n",
    "from langchain_core.pydantic_v1 import BaseModel, Field\n",
    "from langchain.prompts import PromptTemplate\n",
    "from langchain.text_splitter import RecursiveCharacterTextSplitter\n",
    "from langchain.document_loaders import PyPDFLoader\n",
    "\n",
    "\n",
    "\n",
    "import json\n",
    "import tiktoken\n",
    "import os"
   ]
  },
  {
   "cell_type": "code",
   "execution_count": 34,
   "metadata": {},
   "outputs": [],
   "source": [
    "API_KEY = os.getenv(\"AZURE_OPENAI_API_KEY\") \n",
    "RESOURCE_ENDPOINT = os.getenv(\"AZURE_OPENAI_ENDPOINT\") \n",
    "\n",
    "azure_client = AzureOpenAI(\n",
    "                api_key=API_KEY\n",
    "                ,api_version='2023-05-15'\n",
    "                ,azure_endpoint=RESOURCE_ENDPOINT\n",
    "                ,azure_deployment='gpt-35-turbo-instruct'\n",
    "                ,temperature=0\n",
    "                ,max_tokens=1000\n",
    "                #,model_kwargs={\"response_format\": {\"type\": \"json_object\"}}\n",
    ")"
   ]
  },
  {
   "cell_type": "code",
   "execution_count": 35,
   "metadata": {},
   "outputs": [],
   "source": [
    "loader = PyPDFLoader(\"./lotr.pdf\")\n",
    "\n",
    "pages = loader.load_and_split()\n",
    "\n"
   ]
  },
  {
   "cell_type": "code",
   "execution_count": 36,
   "metadata": {},
   "outputs": [],
   "source": [
    "\n",
    "\n",
    "def num_tokens_from_string(string: str, encoding_name: str = \"cl100k_base\") -> int:\n",
    "    \"\"\"Returns the number of tokens in a text string.\"\"\"\n",
    "    encoding = tiktoken.get_encoding(encoding_name)\n",
    "    num_tokens = len(encoding.encode(string))\n",
    "    return num_tokens\n"
   ]
  },
  {
   "cell_type": "code",
   "execution_count": 37,
   "metadata": {},
   "outputs": [],
   "source": [
    "prologue_pages = pages[24:39]\n",
    "# Python for loop in one line\n",
    "prologue_text = ''\n",
    "for page in prologue_pages : prologue_text += page.page_content\n"
   ]
  },
  {
   "cell_type": "code",
   "execution_count": 38,
   "metadata": {},
   "outputs": [
    {
     "name": "stdout",
     "output_type": "stream",
     "text": [
      "28\n"
     ]
    }
   ],
   "source": [
    "text_splitter = RecursiveCharacterTextSplitter(\n",
    "    # Set a really small chunk size, just to show.\n",
    "    chunk_size = 1500,\n",
    "    chunk_overlap  = 150\n",
    ")\n",
    "\n",
    "docs = text_splitter.create_documents([prologue_text])\n",
    "print(len(docs))"
   ]
  },
  {
   "cell_type": "code",
   "execution_count": 41,
   "metadata": {},
   "outputs": [],
   "source": [
    "output_parser = StrOutputParser()\n",
    "#output_parser = JsonOutputParser(pydantic_object=Theme)\n",
    "prompt = PromptTemplate(\n",
    "    template=\"Identify the most important themes covered in the following text.  Take all information from the text only.  If a piece of information is not in the text, do not include it.  Results format: <theme>: <detailed summary of text that supports the theme in narrative form.>}}] :\\n {text}\",\n",
    "    input_variables=[\"text\"],\n",
    "\n",
    ")\n",
    "\n",
    "responses = []\n",
    "for doc in docs:\n",
    "    chain = (\n",
    "    {\"text\": RunnablePassthrough()} \n",
    "        | prompt\n",
    "        | azure_client\n",
    "        | output_parser\n",
    "    )\n",
    "\n",
    "    responses.append(chain.invoke(doc.page_content).replace('\"','\\''))\n",
    "\n"
   ]
  },
  {
   "cell_type": "code",
   "execution_count": 42,
   "metadata": {},
   "outputs": [
    {
     "name": "stdout",
     "output_type": "stream",
     "text": [
      "mingled with the other kinds that had preceded them, but being \n",
      "somewhat bolder and more adventurous, they were often found as \n",
      "leaders or chieftains among clans of Harfoots or Stoors. Even in \n",
      "Bilbo’s time the strong Fallohidish strain could still be noted among4 TH E L ORD OF THE RI NGS \n",
      "the greater families, such as the Tooks and the Masters of Buckland. \n",
      "In the westlands of Eriador, between the Misty Mountains and \n",
      "the Mountains of Lune, the Hobbits found both Men and Elves. \n",
      "Indeed, a remnant still dwelt there of the Du´nedain, the kings of \n",
      "Men that came over the Sea out of Westernesse; but they were dwin-\n",
      "dling fast and the lands of their North Kingdom were falling far and \n",
      "wide into waste. There was room and to spare for incomers, and ere \n",
      "long the Hobbits began to settle in ordered communities. Most of \n",
      "their earlier settlements had long disappeared and been forgotten in \n",
      "Bilbo’s time; but one of the ﬁrst to become important still endured, \n",
      "though reduced in size; this was at Bree and in the Chetwood that \n",
      "lay round about, some forty miles east of the Shire. \n",
      "It was in these early days, doubtless, that the Hobbits learned their \n",
      "letters and began to write after the manner of the Du´nedain, who \n",
      "had in their turn long before learned the art from the Elves. And in \n",
      "those days also they forgot whatever languages they had used before, \n",
      "and spoke ever after the Common Speech, the Westron as it was \n",
      "named, that was current through all the lands of the kings from Arnor\n",
      "\n",
      "\n",
      "1. The origins and history of Hobbits: The text mentions the different kinds of Hobbits and how they were often leaders among other clans. It also talks about the Hobbits settling in communities and learning their letters and language from the Dunedain and Elves.\n",
      "\n",
      "2. The influence of other races on Hobbits: The text mentions the Hobbits learning their letters and language from the Dunedain and Elves, and also living among Men and Elves in Eriador.\n",
      "\n",
      "3. The decline of the Dunedain and their kingdom: The text mentions that the Dunedain were dwindling fast and their North Kingdom was falling into waste.\n",
      "\n",
      "4. The settlement of Hobbits in Bree and the Chetwood: The text mentions that one of the first important settlements of Hobbits was in Bree and the Chetwood, and that it endured even in Bilbo's time.\n",
      "\n",
      "5. The spread of the Common Speech: The text mentions that the Hobbits forgot their previous languages and spoke the Common Speech, which was used throughout the lands of the kings from Arnor.\n"
     ]
    }
   ],
   "source": [
    "print(docs[2].page_content)\n",
    "print(responses[2])\n"
   ]
  },
  {
   "cell_type": "code",
   "execution_count": 43,
   "metadata": {},
   "outputs": [],
   "source": [
    "reduce_prompt_text = \"\"\"\n",
    "### Instructions:\n",
    "Below is a collection of themes and supporting text summarize the all of supporting text in narrative form as if telling a story. \n",
    "Your summary will be added to other summaries so do not give an introduction to the summary, assume the reader has context for what you are telling them. \n",
    "Do not include the theme title in the summary.\n",
    "Return your response in valid JSON format.\n",
    "### JSON Output Key and Value\n",
    "\"text\": \"<summary of supporting text>\"\n",
    "### Themes and Supporting Text:\n",
    "{text}\"\n",
    "\"\"\""
   ]
  },
  {
   "cell_type": "code",
   "execution_count": 44,
   "metadata": {},
   "outputs": [
    {
     "name": "stdout",
     "output_type": "stream",
     "text": [
      "\n",
      "\"text\": \"The Hobbit history and origins theme is supported by the text's mention of the Hobbits' migration from Anduin to Eriador and the three different breeds of Hobbits - Harfoots, Stoors, and Fallohides. It also discusses their own records beginning after the settlement of the Shire and their earliest tales of living in Anduin.\" \n",
      "\"text\": \"The Hobbits are a diverse group, with three distinct types - the Stoors, Fallohides, and Harfoots. Each type has their own physical characteristics and preferences for certain types of land. They are known for their skills in various activities and their tendency to settle in one place and preserve their ancestral habits. Despite their differences, the Hobbits have a history of migration and settlement, with each type moving to different areas. They also have interactions with other races, such as Dwarves, Men, and Elves, and their attitudes towards these races vary. The Hobbits also have cultural differences, with each type having their own preferences and skills, but they also have a tendency to mix and mingle with each other in their settlements.\" \n",
      "\"text\": \"The Hobbits were a diverse group, with different clans and leaders among them. They settled in communities and learned their letters and language from the Dunedain and Elves. They also lived among Men and Elves in Eriador. However, the Dunedain were declining and their North Kingdom was falling into waste. One of the first important settlements of Hobbits was in Bree and the Chetwood, which endured even in Bilbo's time. The Hobbits eventually forgot their previous languages and spoke the Common Speech, which was used throughout the lands of the kings from Arnor.\" \n",
      "\"text\": \"The Hobbits have adopted the Common Speech, but still hold onto their own words and names. They have transitioned from legend to history, with a specific reckoning of years and the mention of the Fallohide brothers setting out in the year 1601 of the Third Age. The Hobbits acknowledge the high king's lordship and have responsibilities, such as keeping the Great Bridge in repair, in exchange for their land. They have also embraced their new land, giving it the name 'Brandywine' and holding a deep love for it.\" \n",
      "\"text\": \"The western Hobbits fell in love with their new land and remained there for a thousand years, prospering and multiplying after the Dark Plague. They desired independence and self-rule, as shown by their own chieftains and Thain. Despite facing challenges, such as the Dark Plague and the Long Winter, the Hobbits endured and eventually became accustomed to plenty again. They were little troubled by wars and had a peaceful existence for a thousand years. While they were part of the history of Men and Elves, they also had their own history and traditions, as seen in their choice of Thain and their peaceful existence for a thousand years.\" \n",
      "\"text\": \"The Shire is a peaceful and well-ordered region where the Hobbits live and work in contentment. They have forgotten about the Guardians who protect their land and have never fought among themselves. The Hobbits' history and tradition are deeply rooted in their land, with the Battle of Greenfields being the only battle fought within their borders. Agriculture and farming are important aspects of their society, with well-tilled land and various farms, cornlands, vineyards, and woods. The Hobbits live in a close-knit community, with a Thain in charge and everyone working together in their businesses. They are sensible and peaceful folk, sheltered from the outside world and not concerned with the dark things happening beyond their land.\" \n",
      "\"text\": \"The Battle of Greenfields, fought in the Shire in S.R. 1147, is just one example of the history and battles that have shaped the land. The use of weapons as trophies and the Mathom-house museum in Michel Delving also speak to the importance of preserving and remembering the past. However, the weathers have grown milder and the once feared wolves from the North are now only a grandfather's tale. This change in weather has also affected Hobbit culture and traditions, as seen in their love for good things and their use of mathoms. But despite their peaceful nature, Hobbits are not to be underestimated. They are resilient and tough, able to survive rough handling by grief, foe, or weather. Their ability to handle arms and shoot well with a bow further showcases their strength. However, Hobbits are slow to quarrel and do not kill for sport, instead choosing to defend themselves when necessary. This non-violent nature is also reflected in their strong community bonds, as seen in the passing of presents and their crowded dwellings filled with mathoms. Overall, the Hobbits are a resilient and peaceful people, with a rich history and strong sense of community.\" \n",
      "\"text\": \"The Hobbit lifestyle is one of simplicity and practicality, with their traditional homes being holes in the ground. However, as their population grew, they were forced to adapt and build above ground. Despite this change, some Hobbits still maintained the old custom of living in holes, while others constructed more luxurious versions of their dwellings. Social class and wealth played a role in the type of home a Hobbit had, with only the richest and poorest living in holes. As their environment changed, Hobbits had to adapt and adopt new forms of abode, while still maintaining their skills with bows and arrows and their preference for a simple way of life.\" \n",
      "\"text\": \"The Hobbits are a small, peaceful race with curly hair and large, hairy feet. They are known for their love of food and comfort, and are said to have originated from the land of Eriador. Despite their small size, they have a strong bond with the Elves and Men, often forming alliances and friendships with them.\" \n",
      "\"text\": \"The Hobbits are a people who fear and avoid the Sea, viewing it as a symbol of death. They also have limited interaction with Elves, growing distrustful of them. Their unique architecture and building techniques, influenced by Dwarves and their own discoveries, reflect their evolving culture. However, their lack of exploration and travel suggests a general lack of curiosity. The Hobbits' cultural traditions and customs, such as their preference for round windows and doors and use of thatched roofs and bulged walls, further highlight their distinct way of life.\" \n",
      "\"text\": \"Hobbit architecture was unique, with large houses and large families living together in ancestral mansions with many tunnels. Family and relationships were highly valued among hobbits, who kept careful track of their relatives and created extensive family trees. The genealogical trees at the end of the Red Book of Westmarch were a small book in themselves and were found interesting and accurate by hobbits. They also had a love for tradition and familiarity, enjoying books filled with things they already knew and appreciated accuracy. The hobbit habit of imbibing or inhaling pipe-weed was also mentioned as an astonishing thing about hobbits of old.\" \n",
      "\"text\": \"The Hobbit culture is deeply rooted in their customs, one of which is smoking pipe-weed. This custom is considered their own invention and has a long history and origins, making it an important aspect of Hobbit society. However, there is still a lot of mystery surrounding the origin of pipe-weed, adding to its intrigue. Meriadoc Brandybuck, known for his expertise in herblore, has compiled information about pipe-weed in his book, further emphasizing its significance. The history of pipe-weed dates back to Tobold Hornblower in the Southfarthing and there are various popular varieties, showcasing the diversity of this custom in Hobbit culture.\" \n",
      "\"text\": \"Old Toby, a knowledgeable herb expert, learned about the plant in Bree where it grows well on the south slopes of the hill. The Bree-hobbits claim to have been the first to smoke the genuine weed and their claim spread to other places such as Dwarves, Rangers, Wizards, and wanderers who passed through the ancient road-meeting. The old inn of Bree, The Prancing Pony, has been the home and center of the art of smoking for centuries. The weed was brought northward from the lower Anduin by the Men of Westernesse and grows abundantly in Gondor, where it is richer and larger than in the North.\" \n",
      "\"text\": \"The text delves into the various aspects of life in the Shire, including its geography and climate, cultural traditions, social structure, and history. It highlights the differences in climate between the North and South, the use of pipes and smoking as cultural traditions, the lack of a formal government and the importance of family in managing affairs, and the evolution of the Shire over time. It also mentions the Greenway as a means of transportation and the significance of food in daily life.\" \n",
      "\"text\": \"The Hobbits lived a simple life, spending most of their time growing and eating food. Their estates, farms, workshops, and small trades remained unchanged for generations. They were known for their generosity and contentment, not being greedy. They respected the laws of free will and held the Took family in high regard. The ancient tradition of the high king at Fornost was still remembered, even though there had been no king for nearly a thousand years. The Hobbits attributed all their essential laws to the king of old. The Thain was the leader of the Shire-moot and captain of the Shire-muster and the Hobbitry-in-arms. The Took family held a special respect and had inherited the office of Thain from the Oldbucks. They were known for their wealth and were likely to produce heirs of exceptional strength and size.\"  \n",
      "\"text\": \"The Shire is a peaceful and idyllic place, with simple and content inhabitants known as Hobbits. The Bounders, responsible for maintaining the borders, have increased in number due to reports of strange creatures and people. Bilbo Baggins, an important figure in the Shire, has returned from a memorable journey with considerable wealth and keeps secrets, such as a ring he found. Gandalf and thirteen dwarves, including Thorin Oakenshield, visit Bilbo's door and are described as important and powerful figures.\" \n",
      "\"text\": \"The text follows the epic quest of Thorin Oakenshield and his companions to reclaim the dwarf-hoards of the Kings under the Mountain. Their journey is filled with adventure as they face challenges such as battling a dragon and being attacked by Orcs. Along the way, they form strong bonds of friendship and camaraderie, which are tested but ultimately prevail. Fate seems to play a role in the events that unfold, as Bilbo's discovery of the ring is described as an 'accident'. The battle between good and evil is a prominent theme, as the forces of good, led by Thorin and his companions, face off against the dragon and the Orcs. Courage is displayed by all, from the bravery of Thorin and his companions in battle to Bilbo's cunning and bravery in his encounter with Gollum and journey through the orc-mines. The desire for power and greed is also present, as the dwarves seek the great treasure guarded by the dragon and Gollum's desire for the ring leads to his downfall. In the end, the quest is successful, but not without sacrifice, as Thorin meets his fate and Bilbo's life is forever changed by his encounter with the ring.\" \n",
      "\"text\": \"Gollum's life is one of survival, living in the treacherous mines and relying on his ability to catch and eat whatever he can find. His possession of the ring, which grants him invisibility, also aids in his survival. He lives in isolation, hidden away on his island and only leaving to hunt or spy on the orcs. The ring is his source of power, giving him the ability to become invisible and driving him to madness. Gollum uses strategy in challenging Bilbo to a riddle game, hoping to buy time and potentially find a way out of the tunnels. However, luck ultimately plays a role in Bilbo's victory, highlighting the element of chance in the outcome of the game and his survival.\" \n",
      "\"text\": \"The power of the ring is evident in Gollum's treachery and obsession with it, as he is willing to do anything to get it back, even murder. Bilbo's insistence on Gollum keeping his promise to answer the riddle highlights the importance of keeping one's word. Gollum's greed for the ring ultimately leads to his downfall. Bilbo's use of fear and wit to outsmart Gollum showcases the power of these traits. The fact that Gollum is unable to answer Bilbo's riddle further emphasizes the importance of wit and intelligence.\" \n",
      "\"text\": \"The power of the ring is a recurring theme in the text, as it is mentioned multiple times and is shown to have the ability to make the wearer invisible. Bilbo uses the ring to escape from Gollum and his enemies, and Gollum is obsessed with it, referring to it as his 'Precious.' The theme of good vs. evil is also present, as Bilbo is faced with the decision to kill Gollum, who is portrayed as a wretched and evil creature, but ultimately chooses to show pity and spare his life. Luck and chance also play a significant role, as Bilbo's luck helps him escape from Gollum and the orcs, and he stumbles upon the ring by chance. The themes of darkness and danger are prevalent, as the text mentions darkness multiple times and Bilbo is constantly in danger as he navigates through the dark passages and is pursued by Gollum. Lastly, the power of storytelling is highlighted as Bilbo's account of his encounter with Gollum changes when he tells it to his companions, showcasing how storytelling can shape perceptions and manipulate the truth.\" \n",
      "\"text\": \"The ring, a magical object given to Gollum on his birthday and later won by Bilbo in a game, plays a central role in the story. Gandalf is curious about the ring and eventually learns its true story. Bilbo's original story about the ring differs from the one he tells his companions, highlighting the idea that stories can change over time. Despite their strained friendship, Gandalf believes in the importance of the truth and does not want to delete anything written by Bilbo. Bilbo keeps the truth about the ring a secret, even from his closest friends Frodo and Samwise, showing the power of secrets in relationships. The Red Book, containing the history of the ring, highlights the significance of preserving history and keeping accurate records.\" \n",
      "\"text\": \"The theme of truth is prevalent throughout the text, as both Gandalf and Bilbo value it greatly. Bilbo's initial dishonesty is noted as being out of character for him, and the concept of a 'present' is brought up by Gollum's words, causing Gandalf to become suspicious. Bilbo also chooses to keep the truth about the ring hidden from his companions and the rest of the Shire.\" \n",
      "\"text\": \"The Hobbits of the Shire have a strong interest in their own history and take great care in preserving historical books and records. The Red Book of Westmarch, a valuable source for the history of the War of the Ring, is kept at Undertowers. Mr. Baggins, a well-known Hobbit, returns to his home at Bag End and prepares for his birthday celebration, which involves the larger families in the Shire. The War of the Ring has had a significant impact on the Hobbits, leading to their inclusion in the Reunited Kingdom and a renewed interest in their own history. Mr. Baggins' travels and the ring he carries with him on his journeys also add an element of adventure to the Hobbit way of life. Despite their love for travel and adventure, family and community remain important to the Hobbits, as seen in the preparations for Mr. Baggins' birthday celebration that involves the whole community.\" \n",
      "\"text\": \"The Red Book, a collection of writings including Bilbo's diary and Frodo's account of the War, was created in Gondor and later brought to the Shire by Peregrin. It was completed by scribe Findegil and copies were made for the descendants of Samwise Gamgee and King Elessar. The Thain's Book, an exact copy of the Red Book, was also important in preserving its history and lineage. The hobbit members of the Fellowship played a crucial role in the War and their stories were included in the fifth volume of the Red Book. The Red Book's legacy and importance were passed down through generations, with special copies made for important figures like King Elessar.\" \n",
      "\"text\": \"The Thain's Book, the first copy of the Red Book, contained information that was later lost and heavily annotated in Minas Tirith. It also included an abbreviated version of The Tale of Aragorn and Arwen, written by Barahir and added to the Thain's Book. The Red Book, the source of the Thain's Book, contained information about the War and the full tale of Aragorn and Arwen. Findegil's copy of the Red Book also contained Bilbo's 'Translations from the Elvish', a work of great skill and learning about the Elder Days. However, these translations were not used by Frodo. The libraries at Bucklebury and Tuckborough held information not found in the Red Book, including works about Eriador and the history of Rohan. Meriadoc and Peregrin, who became heads of their families, had access to these libraries and kept up their connections with Rohan and Gondor.\" \n",
      "\"text\": \"The history and lore of Eriador, Rohan, and Numenor is a topic of great interest, with various works and manuscripts dedicated to it. Meriadoc, a prominent figure, has contributed to several works such as the Herblore of the Shire and a treatise on Old Words and Names. The books at Great Smials may not be of interest to Shire-folk, but they hold great importance for larger history. Meriadoc's visits to Rivendell provided him with assistance and information, and Elrond's sons may have also played a role. The Tale of Years, a compilation of histories and legends, is a significant work that deserves attention, despite its conjectural dates.\" \n",
      "\"text\": \"The narrator received assistance and information from Rivendell, where Elrond's sons and some of the High-elven folk remained even after Elrond's departure. Galadriel also left to dwell there after her own departure. Celeborn's final departure marked the end of the Elder Days in Middle-earth, as he took with him the last living memory of that time.\"\n"
     ]
    }
   ],
   "source": [
    "\n",
    "final_summary = []\n",
    "output_parser = StrOutputParser()\n",
    "prompt = ChatPromptTemplate.from_template(reduce_prompt_text)\n",
    "\n",
    "for response in responses:\n",
    "    chain = (\n",
    "    {\"text\": RunnablePassthrough()} \n",
    "        | prompt\n",
    "        | azure_client\n",
    "        | output_parser\n",
    "    )\n",
    "\n",
    "    final_summary.append(chain.invoke(response))\n",
    "\n",
    "print(' '.join(final_summary))"
   ]
  },
  {
   "cell_type": "code",
   "execution_count": 45,
   "metadata": {},
   "outputs": [
    {
     "name": "stdout",
     "output_type": "stream",
     "text": [
      "28\n"
     ]
    }
   ],
   "source": [
    "print(len(final_summary))"
   ]
  },
  {
   "cell_type": "code",
   "execution_count": 46,
   "metadata": {},
   "outputs": [],
   "source": [
    "final_text = ''\n",
    "\n",
    "for fs in final_summary:\n",
    "    if len(fs) > 0:\n",
    "        raw_js = '{' + fs + '}'\n",
    "        js = json.loads(raw_js)\n",
    "        final_text += '\\n\\n' + js[\"text\"]\n",
    "\n"
   ]
  },
  {
   "cell_type": "code",
   "execution_count": 47,
   "metadata": {},
   "outputs": [],
   "source": [
    "with open(\"./prologue_text.txt\", \"w\") as prologue:\n",
    "    # Writing data to a file\n",
    "    prologue.write(prologue_text)\n",
    "\n",
    "with open(\"./prologue_summary_text.txt\", \"w\") as summary:\n",
    "    # Writing data to a file\n",
    "    summary.write(final_text)"
   ]
  }
 ],
 "metadata": {
  "kernelspec": {
   "display_name": "base",
   "language": "python",
   "name": "python3"
  },
  "language_info": {
   "codemirror_mode": {
    "name": "ipython",
    "version": 3
   },
   "file_extension": ".py",
   "mimetype": "text/x-python",
   "name": "python",
   "nbconvert_exporter": "python",
   "pygments_lexer": "ipython3",
   "version": "3.11.5"
  }
 },
 "nbformat": 4,
 "nbformat_minor": 2
}
